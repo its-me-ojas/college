{
 "cells": [
  {
   "metadata": {},
   "cell_type": "markdown",
   "source": "Reverse the NumPy array: arr = np.array([1, 2, 3, 6, 4, 5]",
   "id": "4a512b7853d700fe"
  },
  {
   "cell_type": "code",
   "id": "initial_id",
   "metadata": {
    "collapsed": true,
    "ExecuteTime": {
     "end_time": "2024-08-02T10:25:50.295932Z",
     "start_time": "2024-08-02T10:25:50.291354Z"
    }
   },
   "source": [
    "import numpy as np\n",
    "\n",
    "arrToRev = np.array([1, 2, 3, 6, 4, 5])\n",
    "arrToRev[::-1]"
   ],
   "outputs": [
    {
     "data": {
      "text/plain": [
       "array([5, 4, 6, 3, 2, 1])"
      ]
     },
     "execution_count": 34,
     "metadata": {},
     "output_type": "execute_result"
    }
   ],
   "execution_count": 34
  },
  {
   "metadata": {},
   "cell_type": "markdown",
   "source": [
    "Flatten the NumPy arr: array1 = np.array([[1, 2, 3], [2, 4, 5], [1, 2, 3]]) using any two\n",
    "NumPy in-built methods"
   ],
   "id": "803e2aedb5ba3dd6"
  },
  {
   "metadata": {
    "ExecuteTime": {
     "end_time": "2024-08-02T10:25:50.332173Z",
     "start_time": "2024-08-02T10:25:50.327624Z"
    }
   },
   "cell_type": "code",
   "source": [
    "arrNoFlat = np.array([[1, 2, 3], [2, 4, 5], [1, 2, 3]])\n",
    "arrNoFlat.flatten()"
   ],
   "id": "a0822c964eb0f445",
   "outputs": [
    {
     "data": {
      "text/plain": [
       "array([1, 2, 3, 2, 4, 5, 1, 2, 3])"
      ]
     },
     "execution_count": 35,
     "metadata": {},
     "output_type": "execute_result"
    }
   ],
   "execution_count": 35
  },
  {
   "metadata": {},
   "cell_type": "markdown",
   "source": [
    " Compare the following numpy arrays:\n",
    "- arr1 = np.array([[1, 2], [3, 4]])\n",
    "- arr2 = np.array([[1, 2], [3, 4]])"
   ],
   "id": "61a0a7a5c9a93e19"
  },
  {
   "metadata": {
    "ExecuteTime": {
     "end_time": "2024-08-02T10:25:50.355723Z",
     "start_time": "2024-08-02T10:25:50.350076Z"
    }
   },
   "cell_type": "code",
   "source": [
    "arr1ToComp = np.array([[1, 2], [3, 4]])\n",
    "arr2ToComp = np.array([[1, 2], [3, 4]])\n",
    "np.array_equal(arr1ToComp, arr2ToComp)"
   ],
   "id": "1990d11edee9b251",
   "outputs": [
    {
     "data": {
      "text/plain": [
       "True"
      ]
     },
     "execution_count": 36,
     "metadata": {},
     "output_type": "execute_result"
    }
   ],
   "execution_count": 36
  },
  {
   "metadata": {},
   "cell_type": "markdown",
   "source": [
    "Find the most frequent value and their indice(s) in the following arrays:\n",
    "- i. x = np.array([1,2,3,4,5,1,2,1,1,1])\n",
    "- ii. y = np.array([1, 1, 1, 2, 3, 4, 2, 4, 3, 3, ])"
   ],
   "id": "77df03ee807411fa"
  },
  {
   "metadata": {
    "ExecuteTime": {
     "end_time": "2024-08-02T10:25:50.383308Z",
     "start_time": "2024-08-02T10:25:50.379070Z"
    }
   },
   "cell_type": "code",
   "source": [
    "x = np.array([1, 2, 3, 4, 5, 1, 2, 1, 1, 1])\n",
    "y = np.array([1, 1, 1, 2, 3, 4, 2, 4, 3, 3, ])\n",
    "print(np.bincount(x).argmax())\n",
    "print(np.bincount(y).argmax())"
   ],
   "id": "b96a721238d154ca",
   "outputs": [
    {
     "name": "stdout",
     "output_type": "stream",
     "text": [
      "1\n",
      "1\n"
     ]
    }
   ],
   "execution_count": 37
  },
  {
   "metadata": {},
   "cell_type": "markdown",
   "source": [
    "For the array gfg = np.matrix('[4, 1, 9; 12, 3, 1; 4, 5, 6]'), find\n",
    "- i. Sum of all elements\n",
    "- ii. Sum of all elements row-wise\n",
    "- iii. Sum of all elements column-wise"
   ],
   "id": "5304be67e7b2917f"
  },
  {
   "metadata": {
    "ExecuteTime": {
     "end_time": "2024-08-02T10:25:50.404453Z",
     "start_time": "2024-08-02T10:25:50.399170Z"
    }
   },
   "cell_type": "code",
   "source": [
    "gfg = np.matrix('[4, 1, 9; 12, 3, 1; 4, 5, 6]')\n",
    "print(np.sum(gfg))\n",
    "print(np.sum(gfg, axis=1))\n",
    "print(np.sum(gfg, axis=0))"
   ],
   "id": "724e95570288b316",
   "outputs": [
    {
     "name": "stdout",
     "output_type": "stream",
     "text": [
      "45\n",
      "[[14]\n",
      " [16]\n",
      " [15]]\n",
      "[[20  9 16]]\n"
     ]
    }
   ],
   "execution_count": 38
  },
  {
   "metadata": {},
   "cell_type": "markdown",
   "source": [
    "For the matrix: n_array = np.array([[55, 25, 15],[30, 44, 2],[11, 45, 77]]), find\n",
    "- i. Sum of diagonal elements\n",
    "- ii. Eigen values of matrix\n",
    "- iii. Eigen vectors of matrix\n",
    "- iv. Inverse of matrix\n",
    "- v. Determinant of matrix"
   ],
   "id": "340c43233800f6be"
  },
  {
   "metadata": {
    "ExecuteTime": {
     "end_time": "2024-08-02T10:25:50.447413Z",
     "start_time": "2024-08-02T10:25:50.440081Z"
    }
   },
   "cell_type": "code",
   "source": [
    "n_array = np.array([[55, 25, 15], [30, 44, 2], [11, 45, 77]])\n",
    "np.trace(n_array)\n",
    "eigenValues, eigenVectors = np.linalg.eig(n_array)\n",
    "print(eigenValues)\n",
    "print(eigenVectors)\n",
    "print(np.linalg.inv(n_array))\n",
    "print(np.linalg.det(n_array))"
   ],
   "id": "c453a7ad49bbd3af",
   "outputs": [
    {
     "name": "stdout",
     "output_type": "stream",
     "text": [
      "[98.16835147 28.097044   49.73460452]\n",
      "[[ 0.4574917   0.34637121 -0.15017693]\n",
      " [ 0.28447814 -0.72784061 -0.4852124 ]\n",
      " [ 0.84248058  0.59184038  0.8614034 ]]\n",
      "[[ 0.02404141 -0.00911212 -0.00444671]\n",
      " [-0.01667882  0.02966905  0.0024785 ]\n",
      " [ 0.00631287 -0.01603732  0.01217379]]\n",
      "137180.0000000001\n"
     ]
    }
   ],
   "execution_count": 39
  },
  {
   "metadata": {},
   "cell_type": "markdown",
   "source": [
    "Multiply the following matrices and also find covariance between matrices using NumPy:\n",
    "- i. p = [[1, 2], [2, 3]]\n",
    "- q = [[4, 5], [6, 7]]\n",
    "- ii. p = [[1, 2], [2, 3], [4, 5]]\n",
    "- q = [[4, 5, 1], [6, 7, 2]]"
   ],
   "id": "56769bf11710745b"
  },
  {
   "metadata": {
    "ExecuteTime": {
     "end_time": "2024-08-02T10:25:50.469031Z",
     "start_time": "2024-08-02T10:25:50.461780Z"
    }
   },
   "cell_type": "code",
   "source": [
    "p = np.matrix('[1, 2; 2, 3]')\n",
    "q = np.matrix('[4, 5; 6, 7]')\n",
    "print(np.matmul(p, q))\n",
    "p_new = np.matrix('[1, 2; 2, 3; 4, 5]')\n",
    "q_new = np.matrix('[4, 5, 1; 6, 7, 2]')\n",
    "print(np.matmul(p_new, q_new))"
   ],
   "id": "49fa8eab1d549fdf",
   "outputs": [
    {
     "name": "stdout",
     "output_type": "stream",
     "text": [
      "[[16 19]\n",
      " [26 31]]\n",
      "[[16 19  5]\n",
      " [26 31  8]\n",
      " [46 55 14]]\n"
     ]
    }
   ],
   "execution_count": 40
  },
  {
   "metadata": {},
   "cell_type": "markdown",
   "source": [
    "For the matrices: x = np.array([[2, 3, 4], [3, 2, 9]]); y = np.array([[1, 5, 0], [5, 10, 3]]),\n",
    "- find inner, outer and cartesian product"
   ],
   "id": "fcd4f0e7b3008146"
  },
  {
   "metadata": {
    "ExecuteTime": {
     "end_time": "2024-08-02T10:25:50.517612Z",
     "start_time": "2024-08-02T10:25:50.512141Z"
    }
   },
   "cell_type": "code",
   "source": [
    "x = np.array([[2, 3, 4], [3, 2, 9]])\n",
    "y = np.array([[1, 5, 0], [5, 10, 3]])\n",
    "print(np.inner(x, y))\n",
    "print(np.outer(x, y))\n",
    "print(np.cross(x, y))"
   ],
   "id": "5d8681026487e83c",
   "outputs": [
    {
     "name": "stdout",
     "output_type": "stream",
     "text": [
      "[[17 52]\n",
      " [13 62]]\n",
      "[[ 2 10  0 10 20  6]\n",
      " [ 3 15  0 15 30  9]\n",
      " [ 4 20  0 20 40 12]\n",
      " [ 3 15  0 15 30  9]\n",
      " [ 2 10  0 10 20  6]\n",
      " [ 9 45  0 45 90 27]]\n",
      "[[-20   4   7]\n",
      " [-84  36  20]]\n"
     ]
    }
   ],
   "execution_count": 41
  },
  {
   "metadata": {},
   "cell_type": "markdown",
   "source": [
    "For the array: array = np.array([[1, -2, 3],[-4, 5, -6]])\n",
    "- i. Find element-wise absolute value\n",
    "- ii. Find the 25th, 50th, and 75th percentile of flattened array, for each column, for each\n",
    "row.\n",
    "- iii. Mean, Median and Standard Deviation of flattened array, of each column, and\n",
    "each row"
   ],
   "id": "2cfe6ab2566e502d"
  },
  {
   "metadata": {
    "ExecuteTime": {
     "end_time": "2024-08-02T10:25:50.544312Z",
     "start_time": "2024-08-02T10:25:50.532722Z"
    }
   },
   "cell_type": "code",
   "source": [
    "array = np.array([[1, -2, 3], [-4, 5, -6]])\n",
    "print(np.abs(array))\n",
    "array.flatten()\n",
    "print(np.percentile(array, [25, 50, 75]))\n",
    "print(np.percentile(array, [25, 50, 75], axis=0))\n",
    "print(np.percentile(array, [25, 50, 75], axis=1))\n",
    "print(np.mean(array, axis=0))\n",
    "print(np.mean(array, axis=1))\n",
    "print(np.median(array, axis=0))\n",
    "print(np.median(array, axis=1))\n",
    "print(np.std(array, axis=0))\n",
    "print(np.std(array, axis=1))"
   ],
   "id": "e39fbd43cd735db1",
   "outputs": [
    {
     "name": "stdout",
     "output_type": "stream",
     "text": [
      "[[1 2 3]\n",
      " [4 5 6]]\n",
      "[-3.5 -0.5  2.5]\n",
      "[[-2.75 -0.25 -3.75]\n",
      " [-1.5   1.5  -1.5 ]\n",
      " [-0.25  3.25  0.75]]\n",
      "[[-0.5 -5. ]\n",
      " [ 1.  -4. ]\n",
      " [ 2.   0.5]]\n",
      "[-1.5  1.5 -1.5]\n",
      "[ 0.66666667 -1.66666667]\n",
      "[-1.5  1.5 -1.5]\n",
      "[ 1. -4.]\n",
      "[2.5 3.5 4.5]\n",
      "[2.05480467 4.78423336]\n"
     ]
    }
   ],
   "execution_count": 42
  },
  {
   "metadata": {},
   "cell_type": "markdown",
   "source": [
    "For the array: a = np.array([-1.8, -1.6, -0.5, 0.5,1.6, 1.8, 3.0]). \n",
    "- Find floor, ceiling\n",
    "and truncated value, rounded values"
   ],
   "id": "3d849b3f4a3108c5"
  },
  {
   "metadata": {
    "ExecuteTime": {
     "end_time": "2024-08-02T10:27:27.618692Z",
     "start_time": "2024-08-02T10:27:27.613686Z"
    }
   },
   "cell_type": "code",
   "source": [
    "a = np.array([-1.8, -1.6, -0.5, 0.5, 1.6, 1.8, 3.0])\n",
    "print(np.floor(a))\n",
    "print(np.ceil(a))\n",
    "print(np.trunc(a))\n",
    "print(np.round(a))"
   ],
   "id": "3d566ec7d4a6f61f",
   "outputs": [
    {
     "name": "stdout",
     "output_type": "stream",
     "text": [
      "[-2. -2. -1.  0.  1.  1.  3.]\n",
      "[-1. -1. -0.  1.  2.  2.  3.]\n",
      "[-1. -1. -0.  0.  1.  1.  3.]\n",
      "[-2. -2. -0.  0.  2.  2.  3.]\n"
     ]
    }
   ],
   "execution_count": 43
  },
  {
   "metadata": {},
   "cell_type": "markdown",
   "source": [
    "For the array: array = np.array([10, 52, 62, 16, 16, 54, 453]), find\n",
    "- i. Sorted array\n",
    "- ii. Indices of sorted array\n",
    "- iii. 4 smallest elements\n",
    "- v. 5 largest elements"
   ],
   "id": "e179d9ba3e93f836"
  },
  {
   "metadata": {
    "ExecuteTime": {
     "end_time": "2024-08-02T10:29:41.653006Z",
     "start_time": "2024-08-02T10:29:41.646501Z"
    }
   },
   "cell_type": "code",
   "source": [
    "array = np.array([10, 52, 62, 16, 16, 54, 453])\n",
    "print(np.sort(array))\n",
    "print(np.argsort(array))\n",
    "print(array[np.argpartition(array, 4)[:4]])\n",
    "print(array[np.argpartition(array, -5)[-5:]])"
   ],
   "id": "873f719f99e1e6b1",
   "outputs": [
    {
     "name": "stdout",
     "output_type": "stream",
     "text": [
      "[ 10  16  16  52  54  62 453]\n",
      "[0 3 4 1 5 2 6]\n",
      "[10 16 16 52]\n",
      "[ 16  52  54  62 453]\n"
     ]
    }
   ],
   "execution_count": 45
  },
  {
   "metadata": {},
   "cell_type": "markdown",
   "source": [
    "For the array: array = np.array([1.0, 1.2, 2.2, 2.0, 3.0, 2.0]), find\n",
    "- i. Integer elements only\n",
    "- ii. Floating elements only"
   ],
   "id": "a56687e0ed8f54d1"
  },
  {
   "metadata": {
    "ExecuteTime": {
     "end_time": "2024-08-02T10:46:13.441832Z",
     "start_time": "2024-08-02T10:46:13.436129Z"
    }
   },
   "cell_type": "code",
   "source": [
    "array = np.array([1.0, 1.2, 2.2, 2.0, 3.0, 2.0])\n",
    "print(array[array % 1 == 0])\n",
    "print(array[array % 1 != 0])"
   ],
   "id": "f39161151719206c",
   "outputs": [
    {
     "name": "stdout",
     "output_type": "stream",
     "text": [
      "[1. 2. 3. 2.]\n",
      "[1.2 2.2]\n"
     ]
    }
   ],
   "execution_count": 46
  },
  {
   "metadata": {},
   "cell_type": "markdown",
   "source": [
    "Write a function named img_to_array(path) that reads an image from a specified path and\n",
    "save it as text file on local machine? (Note: use separate cases for RGB and Grey Scale\n",
    "images)"
   ],
   "id": "a87eb2d9a3b5d093"
  },
  {
   "metadata": {
    "ExecuteTime": {
     "end_time": "2024-08-02T11:06:14.289784Z",
     "start_time": "2024-08-02T11:06:01.109753Z"
    }
   },
   "cell_type": "code",
   "source": [
    "import cv2\n",
    "def img_to_array(path):\n",
    "    img = cv2.imread(path)\n",
    "    if len(img.shape) == 3:\n",
    "        with open('image.txt', 'w') as f:\n",
    "            for i in img:\n",
    "                for j in i:\n",
    "                    f.write(str(j) + '\\n')\n",
    "    else:\n",
    "        with open('image.txt', 'w') as f:\n",
    "            for i in img:\n",
    "                f.write(str(i) + '\\n')\n",
    "\n",
    "img_to_array('./cat.jpg')"
   ],
   "id": "3a8f13b8db803612",
   "outputs": [],
   "execution_count": 48
  },
  {
   "metadata": {},
   "cell_type": "markdown",
   "source": "Load the saved file into jupyter notebook",
   "id": "d61f6ddf4a515500"
  },
  {
   "metadata": {
    "jupyter": {
     "is_executing": true
    }
   },
   "cell_type": "code",
   "source": [
    "with open('image.txt', 'r') as f:\n",
    "    print(f.read())"
   ],
   "id": "23c018594038ae43",
   "outputs": [],
   "execution_count": null
  },
  {
   "metadata": {},
   "cell_type": "code",
   "outputs": [],
   "execution_count": null,
   "source": "",
   "id": "e5da62b11d288703"
  }
 ],
 "metadata": {
  "kernelspec": {
   "display_name": "Python 3",
   "language": "python",
   "name": "python3"
  },
  "language_info": {
   "codemirror_mode": {
    "name": "ipython",
    "version": 2
   },
   "file_extension": ".py",
   "mimetype": "text/x-python",
   "name": "python",
   "nbconvert_exporter": "python",
   "pygments_lexer": "ipython2",
   "version": "2.7.6"
  }
 },
 "nbformat": 4,
 "nbformat_minor": 5
}
